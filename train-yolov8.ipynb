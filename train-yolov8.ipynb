{
 "cells": [
  {
   "cell_type": "code",
   "id": "initial_id",
   "metadata": {
    "collapsed": true,
    "ExecuteTime": {
     "end_time": "2025-07-02T10:21:41.128130Z",
     "start_time": "2025-07-02T10:21:41.124838Z"
    }
   },
   "source": [
    "import os\n",
    "from tqdm.auto import tqdm\n",
    "import xml.etree.ElementTree as ET\n",
    "import tensorflow as tf\n",
    "from tensorflow import keras\n",
    "import numpy as np\n",
    "import keras_cv\n",
    "from keras_cv import bounding_box\n",
    "from keras_cv import visualization"
   ],
   "outputs": [],
   "execution_count": 7
  },
  {
   "metadata": {
    "ExecuteTime": {
     "end_time": "2025-07-02T10:21:45.251795Z",
     "start_time": "2025-07-02T10:21:45.186126Z"
    }
   },
   "cell_type": "code",
   "source": [
    "import tensorflow as tf\n",
    "from keras_cv.bounding_box import convert_format\n",
    "\n",
    "def build_dataset(image_dir, label_dir, batch_size=4, res_scale=1.0, target_format=\"xywh\"):\n",
    "    imgw = int(1920 * res_scale)\n",
    "    imgh = int(1080 * res_scale)\n",
    "\n",
    "    def parse_example(image_path):\n",
    "        image_path = image_path.numpy().decode(\"utf-8\")\n",
    "        label_path = image_path.replace(image_dir, label_dir).replace(\".png\", \".txt\")\n",
    "\n",
    "        # Load and decode image\n",
    "        img = tf.io.read_file(image_path)\n",
    "        img = tf.image.decode_png(img, channels=3)\n",
    "        img = tf.image.convert_image_dtype(img, tf.float32)  # normalize to [0, 1]\n",
    "\n",
    "        # Resize if needed\n",
    "        if res_scale != 1.0:\n",
    "            img = tf.image.resize(img, (imgh, imgw))  # TensorFlow uses (height, width)\n",
    "\n",
    "        # Read YOLO label file\n",
    "        boxes = []\n",
    "        classes = []\n",
    "        with open(label_path, \"r\") as f:\n",
    "            for line in f:\n",
    "                cls, x_c, y_c, w, h = map(float, line.strip().split())\n",
    "                boxes.append([x_c, y_c, w, h])  # YOLO format: rel_xywh\n",
    "                classes.append(int(cls))\n",
    "\n",
    "        # Convert to tensor\n",
    "        boxes = tf.convert_to_tensor(boxes, dtype=tf.float32)\n",
    "        classes = tf.convert_to_tensor(classes, dtype=tf.int32)\n",
    "\n",
    "        # Convert bounding boxes to desired format (e.g. \"xywh\")\n",
    "        boxes = convert_format(\n",
    "            boxes={\n",
    "                \"boxes\": boxes,\n",
    "                \"classes\": classes\n",
    "            },\n",
    "            source=\"rel_xywh\",\n",
    "            target=target_format,\n",
    "            images=img\n",
    "        )[\"boxes\"]\n",
    "\n",
    "        return img.numpy(), boxes.numpy(), classes.numpy()\n",
    "\n",
    "    def tf_parse_example(image_path):\n",
    "        img, boxes, classes = tf.py_function(parse_example, [image_path], [tf.float32, tf.float32, tf.int32])\n",
    "        img.set_shape((imgh, imgw, 3))\n",
    "        boxes.set_shape((None, 4))\n",
    "        classes.set_shape((None,))\n",
    "        return {\n",
    "            \"images\": img,\n",
    "            \"bounding_boxes\": {\n",
    "                \"classes\": classes,\n",
    "                \"boxes\": boxes\n",
    "            }\n",
    "        }\n",
    "\n",
    "    image_paths = tf.data.Dataset.list_files(image_dir + \"/*.png\", shuffle=True)\n",
    "    dataset = image_paths.map(tf_parse_example, num_parallel_calls=tf.data.AUTOTUNE)\n",
    "    dataset = dataset.batch(batch_size).prefetch(tf.data.AUTOTUNE)\n",
    "    return dataset\n",
    "\n",
    "# Usage:\n",
    "train_ds = build_dataset(\n",
    "    image_dir=\"./ds/images/train\",\n",
    "    label_dir=\"./ds/labels/train\",\n",
    "    res_scale=2,\n",
    ")\n",
    "\n",
    "test_ds = build_dataset(\n",
    "    image_dir=\"./ds/images/test\",\n",
    "    label_dir=\"./ds/labels/test\",\n",
    "    res_scale=2\n",
    ")\n"
   ],
   "id": "f9c59783f0673185",
   "outputs": [],
   "execution_count": 8
  },
  {
   "metadata": {
    "ExecuteTime": {
     "end_time": "2025-07-02T10:21:57.249189Z",
     "start_time": "2025-07-02T10:21:48.051896Z"
    }
   },
   "cell_type": "code",
   "source": [
    "from keras_cv.visualization import plot_bounding_box_gallery\n",
    "import matplotlib.pyplot as plt\n",
    "\n",
    "\n",
    "e = next(iter(train_ds.take(1)))\n",
    "\n",
    "plot_bounding_box_gallery(e['images'], y_true=e['bounding_boxes'], value_range=(0, 255), bounding_box_format = \"xywh\")\n"
   ],
   "id": "9ed3948444d83638",
   "outputs": [
    {
     "name": "stderr",
     "output_type": "stream",
     "text": [
      "2025-07-02 11:21:49.864595: W tensorflow/core/kernels/data/prefetch_autotuner.cc:52] Prefetch autotuner tried to allocate 398131280 bytes after encountering the first element of size 398131280 bytes.This already causes the autotune ram budget to be exceeded. To stay within the ram budget, either increase the ram budget or reduce element size\n"
     ]
    },
    {
     "ename": "IndexError",
     "evalue": "index 3 is out of bounds for axis 0 with size 3",
     "output_type": "error",
     "traceback": [
      "\u001B[31m---------------------------------------------------------------------------\u001B[39m",
      "\u001B[31mIndexError\u001B[39m                                Traceback (most recent call last)",
      "\u001B[36mCell\u001B[39m\u001B[36m \u001B[39m\u001B[32mIn[9]\u001B[39m\u001B[32m, line 6\u001B[39m\n\u001B[32m      1\u001B[39m \u001B[38;5;28;01mfrom\u001B[39;00m\u001B[38;5;250m \u001B[39m\u001B[34;01mkeras_cv\u001B[39;00m\u001B[34;01m.\u001B[39;00m\u001B[34;01mvisualization\u001B[39;00m\u001B[38;5;250m \u001B[39m\u001B[38;5;28;01mimport\u001B[39;00m plot_bounding_box_gallery\n\u001B[32m      4\u001B[39m e = \u001B[38;5;28mnext\u001B[39m(\u001B[38;5;28miter\u001B[39m(train_ds.take(\u001B[32m1\u001B[39m)))\n\u001B[32m----> \u001B[39m\u001B[32m6\u001B[39m \u001B[43mplot_bounding_box_gallery\u001B[49m\u001B[43m(\u001B[49m\u001B[43me\u001B[49m\u001B[43m[\u001B[49m\u001B[33;43m'\u001B[39;49m\u001B[33;43mimages\u001B[39;49m\u001B[33;43m'\u001B[39;49m\u001B[43m]\u001B[49m\u001B[43m,\u001B[49m\u001B[43m \u001B[49m\u001B[43my_true\u001B[49m\u001B[43m=\u001B[49m\u001B[43me\u001B[49m\u001B[43m[\u001B[49m\u001B[33;43m'\u001B[39;49m\u001B[33;43mbounding_boxes\u001B[39;49m\u001B[33;43m'\u001B[39;49m\u001B[43m]\u001B[49m\u001B[43m,\u001B[49m\u001B[43m \u001B[49m\u001B[43mvalue_range\u001B[49m\u001B[43m=\u001B[49m\u001B[43m(\u001B[49m\u001B[32;43m0\u001B[39;49m\u001B[43m,\u001B[49m\u001B[43m \u001B[49m\u001B[32;43m255\u001B[39;49m\u001B[43m)\u001B[49m\u001B[43m,\u001B[49m\u001B[43m \u001B[49m\u001B[43mbounding_box_format\u001B[49m\u001B[43m \u001B[49m\u001B[43m=\u001B[49m\u001B[43m \u001B[49m\u001B[33;43m\"\u001B[39;49m\u001B[33;43mxywh\u001B[39;49m\u001B[33;43m\"\u001B[39;49m\u001B[43m)\u001B[49m\n",
      "\u001B[36mFile \u001B[39m\u001B[32m~/Documents/College/Practicum/ds/.venv2/lib/python3.11/site-packages/keras_cv/src/visualization/plot_bounding_box_gallery.py:177\u001B[39m, in \u001B[36mplot_bounding_box_gallery\u001B[39m\u001B[34m(images, value_range, bounding_box_format, y_true, y_pred, true_color, pred_color, line_thickness, font_scale, text_thickness, class_mapping, ground_truth_mapping, prediction_mapping, legend, legend_handles, rows, cols, **kwargs)\u001B[39m\n\u001B[32m    162\u001B[39m         \u001B[38;5;28;01mraise\u001B[39;00m \u001B[38;5;167;01mValueError\u001B[39;00m(\n\u001B[32m    163\u001B[39m             \u001B[33m\"\u001B[39m\u001B[33mOnly pass `legend` OR `legend_handles` to \u001B[39m\u001B[33m\"\u001B[39m\n\u001B[32m    164\u001B[39m             \u001B[33m\"\u001B[39m\u001B[33m`luketils.visualization.plot_bounding_box_gallery()`.\u001B[39m\u001B[33m\"\u001B[39m\n\u001B[32m    165\u001B[39m         )\n\u001B[32m    166\u001B[39m     legend_handles = [\n\u001B[32m    167\u001B[39m         patches.Patch(\n\u001B[32m    168\u001B[39m             color=np.array(true_color) / \u001B[32m255.0\u001B[39m,\n\u001B[32m   (...)\u001B[39m\u001B[32m    174\u001B[39m         ),\n\u001B[32m    175\u001B[39m     ]\n\u001B[32m--> \u001B[39m\u001B[32m177\u001B[39m \u001B[38;5;28;01mreturn\u001B[39;00m \u001B[43mplot_image_gallery\u001B[49m\u001B[43m(\u001B[49m\n\u001B[32m    178\u001B[39m \u001B[43m    \u001B[49m\u001B[43mplotted_images\u001B[49m\u001B[43m,\u001B[49m\n\u001B[32m    179\u001B[39m \u001B[43m    \u001B[49m\u001B[43mvalue_range\u001B[49m\u001B[43m,\u001B[49m\n\u001B[32m    180\u001B[39m \u001B[43m    \u001B[49m\u001B[43mlegend_handles\u001B[49m\u001B[43m=\u001B[49m\u001B[43mlegend_handles\u001B[49m\u001B[43m,\u001B[49m\n\u001B[32m    181\u001B[39m \u001B[43m    \u001B[49m\u001B[43mrows\u001B[49m\u001B[43m=\u001B[49m\u001B[43mrows\u001B[49m\u001B[43m,\u001B[49m\n\u001B[32m    182\u001B[39m \u001B[43m    \u001B[49m\u001B[43mcols\u001B[49m\u001B[43m=\u001B[49m\u001B[43mcols\u001B[49m\u001B[43m,\u001B[49m\n\u001B[32m    183\u001B[39m \u001B[43m    \u001B[49m\u001B[43m*\u001B[49m\u001B[43m*\u001B[49m\u001B[43mkwargs\u001B[49m\n\u001B[32m    184\u001B[39m \u001B[43m\u001B[49m\u001B[43m)\u001B[49m\n",
      "\u001B[36mFile \u001B[39m\u001B[32m~/Documents/College/Practicum/ds/.venv2/lib/python3.11/site-packages/keras_cv/src/visualization/plot_image_gallery.py:174\u001B[39m, in \u001B[36mplot_image_gallery\u001B[39m\u001B[34m(images, value_range, scale, rows, cols, path, show, transparent, dpi, legend_handles)\u001B[39m\n\u001B[32m    170\u001B[39m index = row * cols + col\n\u001B[32m    171\u001B[39m current_axis = (\n\u001B[32m    172\u001B[39m     axes[row, col] \u001B[38;5;28;01mif\u001B[39;00m \u001B[38;5;28misinstance\u001B[39m(axes, np.ndarray) \u001B[38;5;28;01melse\u001B[39;00m axes\n\u001B[32m    173\u001B[39m )\n\u001B[32m--> \u001B[39m\u001B[32m174\u001B[39m current_axis.imshow(\u001B[43mimages\u001B[49m\u001B[43m[\u001B[49m\u001B[43mindex\u001B[49m\u001B[43m]\u001B[49m.astype(\u001B[33m\"\u001B[39m\u001B[33muint8\u001B[39m\u001B[33m\"\u001B[39m))\n\u001B[32m    175\u001B[39m current_axis.margins(x=\u001B[32m0\u001B[39m, y=\u001B[32m0\u001B[39m)\n\u001B[32m    176\u001B[39m current_axis.axis(\u001B[33m\"\u001B[39m\u001B[33moff\u001B[39m\u001B[33m\"\u001B[39m)\n",
      "\u001B[31mIndexError\u001B[39m: index 3 is out of bounds for axis 0 with size 3"
     ]
    },
    {
     "data": {
      "text/plain": [
       "<Figure size 600x600 with 9 Axes>"
      ],
      "image/png": "[encoded data removed]"
     },
     "metadata": {},
     "output_type": "display_data"
    }
   ],
   "execution_count": 9
  }
 ],
 "metadata": {
  "kernelspec": {
   "display_name": "Python 3",
   "language": "python",
   "name": "python3"
  },
  "language_info": {
   "codemirror_mode": {
    "name": "ipython",
    "version": 2
   },
   "file_extension": ".py",
   "mimetype": "text/x-python",
   "name": "python",
   "nbconvert_exporter": "python",
   "pygments_lexer": "ipython2",
   "version": "2.7.6"
  }
 },
 "nbformat": 4,
 "nbformat_minor": 5
}
